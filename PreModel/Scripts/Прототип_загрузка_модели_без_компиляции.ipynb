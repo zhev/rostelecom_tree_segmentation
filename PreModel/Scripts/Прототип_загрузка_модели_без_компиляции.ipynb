{
  "nbformat": 4,
  "nbformat_minor": 0,
  "metadata": {
    "colab": {
      "provenance": []
    },
    "kernelspec": {
      "name": "python3",
      "display_name": "Python 3"
    },
    "language_info": {
      "name": "python"
    }
  },
  "cells": [
    {
      "cell_type": "code",
      "execution_count": 1,
      "metadata": {
        "id": "g1XN_bqyRTa7"
      },
      "outputs": [],
      "source": [
        "import numpy as np\n",
        "from keras.models import Model, load_model # Импортируем модели keras: Model\n",
        "from PIL import Image\n",
        "\n",
        "\n",
        "# Импортируем стандартные слои keras\n",
        "#from keras.layers import Input, Conv2DTranspose, concatenate, Activation\n",
        "#from keras.layers import MaxPooling2D, Conv2D \n",
        "#from keras.models import \n",
        "#from keras.optimizers import Adam  # Импортируем оптимизатор Adam"
      ]
    },
    {
      "cell_type": "code",
      "source": [
        "img_width = 176 # Ширина уменьшенной картинки \n",
        "img_height = 240 # Высота уменьшенной картинки \n",
        "img_cannels = 3 # Количество каналов 3\n",
        "num_classes = 7 # Задаем количество классов на изображении\n",
        "start_lr = 0.00001"
      ],
      "metadata": {
        "id": "4lVV8WW5YvLf"
      },
      "execution_count": 2,
      "outputs": []
    },
    {
      "cell_type": "code",
      "source": [
        "model = load_model('/content/Test_prototype_model.h5')"
      ],
      "metadata": {
        "id": "07b3PTMDYd_X"
      },
      "execution_count": 5,
      "outputs": []
    },
    {
      "cell_type": "code",
      "source": [
        "# Функция преобразования индекса в цвет пикселя\n",
        "def index2color(index2):\n",
        "  index = np.argmax(index2) # Получаем индекс максимального элемента\n",
        "  color=[]\n",
        "  if index == 0: color = [100, 100, 100]  # пол\n",
        "  elif index == 1: color = [0, 0, 100]    # потолок\n",
        "  elif index == 2: color = [0, 100, 0]    # стена\n",
        "  elif index == 3: color = [100, 0, 0]    # проем, дверь, окно\n",
        "  elif index == 4: color = [0, 100, 100]  # колонна, лестница, внешний мир, перила, батарея, инвентарь, источники света, провода, балка\n",
        "  elif index == 5: color = [100, 0, 100]  # люди\n",
        "  elif index == 6: color = [0, 0, 0]      # остальное\n",
        "  return color # Возвращаем цвет пикслея"
      ],
      "metadata": {
        "id": "P_8UVwJltZwO"
      },
      "execution_count": 6,
      "outputs": []
    },
    {
      "cell_type": "code",
      "source": [
        "input_image = Image.open(\"Img_901.jpg\").resize((img_height, img_width))\n",
        "input_array = np.array(input_image, dtype = 'float64') / 255\n",
        "print('input_array', input_array.shape)\n",
        "\n",
        "output_array = np.array(model.predict(input_array.reshape((1, ) + input_array.shape)))\n",
        "print('output_array', output_array.shape)\n",
        "\n",
        "pr = output_array.reshape(-1, num_classes) # Решейпим предикт\n",
        "print('pr', pr.shape)\n",
        "\n",
        "pr1 = [] # Пустой лист под сегментированную картинку из predicta\n",
        "for k in range(len(pr)): # Проходим по всем уровням (количесвто классов)\n",
        "    pr1.append(index2color(pr[k])) # Переводим индекс в писксель\n",
        "\n",
        "pr1 = np.array(pr1) # Преобразуем в numpy\n",
        "print('pr1', pr1.shape)\n",
        "\n",
        "pr1 = pr1.reshape(img_width, img_height, 3) # Решейпим к размеру изображения\n",
        "print('reshape pr1', pr1.shape)\n",
        "\n",
        "img = Image.fromarray(pr1.astype('uint8')) # Получаем картику из предикта\n",
        "\n",
        "img.save(\"OutImage.jpg\")"
      ],
      "metadata": {
        "colab": {
          "base_uri": "https://localhost:8080/"
        },
        "id": "KAVbfwSha-5i",
        "outputId": "2a64ed8f-93cd-4961-85b5-142f08a0fc0e"
      },
      "execution_count": 7,
      "outputs": [
        {
          "output_type": "stream",
          "name": "stdout",
          "text": [
            "input_array (176, 240, 3)\n",
            "1/1 [==============================] - 4s 4s/step\n",
            "output_array (1, 176, 240, 7)\n",
            "pr (42240, 7)\n",
            "pr1 (42240, 3)\n",
            "reshape pr1 (176, 240, 3)\n"
          ]
        }
      ]
    }
  ]
}