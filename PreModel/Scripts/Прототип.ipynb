{
  "nbformat": 4,
  "nbformat_minor": 0,
  "metadata": {
    "colab": {
      "provenance": []
    },
    "kernelspec": {
      "name": "python3",
      "display_name": "Python 3"
    },
    "language_info": {
      "name": "python"
    }
  },
  "cells": [
    {
      "cell_type": "code",
      "execution_count": 13,
      "metadata": {
        "id": "g1XN_bqyRTa7"
      },
      "outputs": [],
      "source": [
        "import numpy as np\n",
        "from keras.models import Model # Импортируем модели keras: Model\n",
        "# Импортируем стандартные слои keras\n",
        "from keras.layers import Input, Conv2DTranspose, concatenate, Activation\n",
        "from keras.layers import MaxPooling2D, Conv2D \n",
        "from keras.models import load_model\n",
        "from keras.optimizers import Adam  # Импортируем оптимизатор Adam\n",
        "from PIL import Image"
      ]
    },
    {
      "cell_type": "code",
      "metadata": {
        "id": "TIP0CCxg_3MM"
      },
      "source": [
        "def PSPnet_7(num_classes = 3, input_shape= (88, 120, 3)):\n",
        "    img_input = Input(input_shape) \n",
        "    #print(K.int_shape(img_input))\n",
        "\n",
        "    x = Conv2D(28, (3, 3), padding='same')(img_input)\n",
        "    x = Activation(function_activation)(x)\n",
        "    x = Conv2D(28, (3, 3), padding='same')(x)\n",
        "    x = Activation(function_activation)(x)\n",
        "    x = Conv2D(28, (3, 3), padding='same')(x)\n",
        "    x = Activation(function_activation)(x)\n",
        "\n",
        "    x = Conv2D(56, (3, 3), padding='same')(x)\n",
        "    x = Activation(function_activation)(x)\n",
        "    x = Conv2D(56, (3, 3), padding='same')(x)\n",
        "    x = Activation(function_activation)(x)\n",
        "    x = Conv2D(56, (3, 3), padding='same')(x)\n",
        "    x = Activation(function_activation)(x)\n",
        "\n",
        "    x = Conv2D(224, (3, 3), padding='same')(x)\n",
        "    x = Activation(function_activation)(x)\n",
        "    x = Conv2D(224, (3, 3), padding='same')(x)\n",
        "    x = Activation(function_activation)(x)\n",
        "    x = Conv2D(224, (3, 3), padding='same')(x)\n",
        "    x = Activation(function_activation)(x)\n",
        "\n",
        "    # pooling пирамида\n",
        "    block_1_out = MaxPooling2D((2, 2))(x)\n",
        "    block_2_out = MaxPooling2D((4, 4))(x)\n",
        "    block_3_out = MaxPooling2D((8, 8))(x)\n",
        "    block_4_out = MaxPooling2D((16, 16))(x)\n",
        "\n",
        "    # Сверточные слои\n",
        "    block_1_out = Conv2D(56, (3, 3), padding='same', name='block1_conv1')(block_1_out)\n",
        "    block_1_out = Activation(function_activation)(block_1_out)\n",
        "\n",
        "    block_2_out = Conv2D(56, (3, 3), padding='same', name='block2_conv1')(block_2_out)\n",
        "    block_2_out = Activation(function_activation)(block_2_out)\n",
        "\n",
        "    block_3_out = Conv2D(56, (3, 3), padding='same', name='block3_conv1')(block_3_out)\n",
        "    block_3_out = Activation(function_activation)(block_3_out)\n",
        "\n",
        "    block_4_out = Conv2D(56, (3, 3), padding='same', name='block4_conv1')(block_4_out)\n",
        "    block_4_out = Activation(function_activation)(block_4_out)\n",
        "\n",
        "    # Увеличиваем размерность\n",
        "    block_1_out = Conv2DTranspose(28, (3, 3), strides=(2, 2), padding='same')(block_1_out)\n",
        "    block_1_out = Activation(function_activation)(block_1_out)\n",
        "\n",
        "    block_2_out = Conv2DTranspose(28, (3, 3), strides=(4, 4), padding='same')(block_2_out)\n",
        "    block_2_out = Activation('relu')(block_2_out)\n",
        "\n",
        "    block_3_out = Conv2DTranspose(28, (3, 3), strides=(8, 8), padding='same')(block_3_out)\n",
        "    block_3_out = Activation(function_activation)(block_3_out)\n",
        "\n",
        "    block_4_out = Conv2DTranspose(28, (3, 3), strides=(16, 16), padding='same')(block_4_out)\n",
        "    block_4_out = Activation(function_activation)(block_4_out)\n",
        "\n",
        "    #объединяем слои\n",
        "    x = concatenate([block_1_out, block_2_out, block_3_out, block_4_out])\n",
        "\n",
        "    x = Conv2D(224, (3, 3), padding='same')(x)\n",
        "    x = Activation(function_activation)(x)\n",
        "    x = Conv2D(224, (3, 3), padding='same')(x)\n",
        "    x = Activation(function_activation)(x)\n",
        "    x = Conv2D(224, (3, 3), padding='same')(x)\n",
        "    x = Activation(function_activation)(x)\n",
        "\n",
        "    x = Conv2D(56, (3, 3), padding='same')(x)\n",
        "    x = Activation(function_activation)(x)\n",
        "    x = Conv2D(56, (3, 3), padding='same')(x)\n",
        "    x = Activation(function_activation)(x)\n",
        "    x = Conv2D(56, (3, 3), padding='same')(x)\n",
        "    x = Activation(function_activation)(x)\n",
        "\n",
        "    x = Conv2D(28, (3, 3), padding='same')(x)\n",
        "    x = Activation(function_activation)(x)\n",
        "    x = Conv2D(28, (3, 3), padding='same')(x)\n",
        "    x = Activation(function_activation)(x)\n",
        "    x = Conv2D(28, (3, 3), padding='same')(x)\n",
        "    x = Activation(function_activation)(x)\n",
        "    \n",
        "    out = Conv2D(num_classes, (3, 3), activation = function_out_activation, padding = 'same')(x)\n",
        "    # Выходной слой\n",
        "\n",
        "    model = Model(img_input, out) # Создаем модель с входом 'img_input' и выходом 'out'\n",
        "    \n",
        "    return model # Возвращаем сформированную модель"
      ],
      "execution_count": 14,
      "outputs": []
    },
    {
      "cell_type": "code",
      "source": [
        "img_width = 176 # Ширина уменьшенной картинки \n",
        "img_height = 240 # Высота уменьшенной картинки \n",
        "img_cannels = 3 # Количество каналов 3\n",
        "num_classes = 7 # Задаем количество классов на изображении\n",
        "start_lr = 0.00001\n",
        "\n",
        "function_activation = 'relu'\n",
        "function_out_activation = 'softmax'\n",
        "\n",
        "# Компилируем модель \n",
        "model = PSPnet_7(num_classes, (img_width, img_height, img_cannels)) # Создаем модель unet\n",
        "model.compile(optimizer = Adam(start_lr),\n",
        "              loss = 'categorical_crossentropy',\n",
        "              metrics = ['accuracy'])\n",
        "print('Я скомпилировалась')"
      ],
      "metadata": {
        "colab": {
          "base_uri": "https://localhost:8080/"
        },
        "id": "4lVV8WW5YvLf",
        "outputId": "ed8821f9-3d31-4704-9962-1b8539c34ce9"
      },
      "execution_count": 15,
      "outputs": [
        {
          "output_type": "stream",
          "name": "stdout",
          "text": [
            "Я скомпилировалась\n"
          ]
        }
      ]
    },
    {
      "cell_type": "code",
      "source": [
        "model.load_weights('12Pro1_model_7_PSPnet_16_100.h5')\n",
        "\n",
        "model.save('Test_prototype_model.h5')"
      ],
      "metadata": {
        "id": "07b3PTMDYd_X"
      },
      "execution_count": 16,
      "outputs": []
    },
    {
      "cell_type": "code",
      "source": [
        "# Функция преобразования индекса в цвет пикселя\n",
        "def index2color(index2):\n",
        "  index = np.argmax(index2) # Получаем индекс максимального элемента\n",
        "  color=[]\n",
        "  if index == 0: color = [100, 100, 100]  # пол\n",
        "  elif index == 1: color = [0, 0, 100]    # потолок\n",
        "  elif index == 2: color = [0, 100, 0]    # стена\n",
        "  elif index == 3: color = [100, 0, 0]    # проем, дверь, окно\n",
        "  elif index == 4: color = [0, 100, 100]  # колонна, лестница, внешний мир, перила, батарея, инвентарь, источники света, провода, балка\n",
        "  elif index == 5: color = [100, 0, 100]  # люди\n",
        "  elif index == 6: color = [0, 0, 0]      # остальное\n",
        "  return color # Возвращаем цвет пикслея"
      ],
      "metadata": {
        "id": "P_8UVwJltZwO"
      },
      "execution_count": 17,
      "outputs": []
    },
    {
      "cell_type": "code",
      "source": [
        "input_image = Image.open(\"Img_901.jpg\").resize((img_height, img_width))\n",
        "input_array = np.array(input_image, dtype = 'float64') / 255\n",
        "print('input_array', input_array.shape)\n",
        "\n",
        "output_array = np.array(model.predict(input_array.reshape((1, ) + input_array.shape)))\n",
        "print('output_array', output_array.shape)\n",
        "\n",
        "pr = output_array.reshape(-1, num_classes) # Решейпим предикт\n",
        "print('pr', pr.shape)\n",
        "\n",
        "pr1 = [] # Пустой лист под сегментированную картинку из predicta\n",
        "for k in range(len(pr)): # Проходим по всем уровням (количесвто классов)\n",
        "    pr1.append(index2color(pr[k])) # Переводим индекс в писксель\n",
        "\n",
        "pr1 = np.array(pr1) # Преобразуем в numpy\n",
        "print('pr1', pr1.shape)\n",
        "\n",
        "pr1 = pr1.reshape(img_width, img_height, 3) # Решейпим к размеру изображения\n",
        "print('reshape pr1', pr1.shape)\n",
        "\n",
        "img = Image.fromarray(pr1.astype('uint8')) # Получаем картику из предикта\n",
        "\n",
        "img.save(\"OutImage.jpg\")"
      ],
      "metadata": {
        "colab": {
          "base_uri": "https://localhost:8080/"
        },
        "id": "KAVbfwSha-5i",
        "outputId": "c7940c36-48c8-4175-9b19-996050103a3d"
      },
      "execution_count": 18,
      "outputs": [
        {
          "output_type": "stream",
          "name": "stdout",
          "text": [
            "input_array (176, 240, 3)\n",
            "1/1 [==============================] - 4s 4s/step\n",
            "output_array (1, 176, 240, 7)\n",
            "pr (42240, 7)\n",
            "pr1 (42240, 3)\n",
            "reshape pr1 (176, 240, 3)\n"
          ]
        }
      ]
    }
  ]
}